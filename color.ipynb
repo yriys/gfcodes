{
 "cells": [
  {
   "cell_type": "code",
   "execution_count": null,
   "id": "single_cell",
   "metadata": {},
   "outputs": [],
   "source": [
    "decode_map = {\n",
    "    '00C3E3': 'A', '01B400': 'B', '9F3982': 'C', 'C2D2EB': 'D', 'FE2917': 'E',\n",
    "    'B021F5': 'F', 'E9D0D4': 'G', '7C7E7D': 'H', 'FFE745': 'I', 'CEC0BF': 'J',\n",
    "    '140603': 'K', '0913CD': 'L', 'B6642C': 'M', '8BC50F': 'N', 'B7F0FB': 'O',\n",
    "    'F6C1D5': 'P', 'FEE8AC': 'Q', 'E39BE4': 'R', 'FFFCF3': 'S', 'FF2685': 'T',\n",
    "    '004912': 'U', '863807': 'V', 'FFC699': 'W', '0098BF': 'X', 'FF6C0F': 'Y', 'FF9C2A': 'Z'\n",
    "}\n",
    "\n",
    "encode_map = {v: k for k, v in decode_map.items()}\n",
    "\n",
    "def translate(encoded_text):\n",
    "    return ''.join(decode_map.get(char, char) for char in encoded_text.split())\n",
    "\n",
    "def encrypt(text):\n",
    "    return ' '.join(encode_map.get(char.upper(), char) for char in text)\n",
    "\n",
    "if __name__ == \"__main__\":\n",
    "    mode = input(\"Введіть 0 для розшифрування або 1 для шифрування: \")\n",
    "    text = input(\"Введіть текст: \")\n",
    "\n",
    "    if mode == \"0\":\n",
    "        print(\"Розшифрований текст:\", translate(text))\n",
    "    elif mode == \"1\":\n",
    "        print(\"Зашифрований текст:\", encrypt(text))"
   ]
  }
 ],
 "metadata": {
  "jupytext": {
   "cell_metadata_filter": "-all",
   "main_language": "python",
   "notebook_metadata_filter": "-all"
  }
 },
 "nbformat": 4,
 "nbformat_minor": 5
}

