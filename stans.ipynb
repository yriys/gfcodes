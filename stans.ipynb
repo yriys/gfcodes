{
 "cells": [
  {
   "cell_type": "code",
   "execution_count": null,
   "id": "95651d5c",
   "metadata": {},
   "outputs": [],
   "source": [
    "decode_map = {\n",
    "    '❌': 'A', '@': 'B', '✋🏻': 'C', '⭐': 'D', '💲': 'E', '🧨': 'F', '🌪️': 'G', '💣': 'H',\n",
    "    '⚡': 'I', '🦴': 'J', '⚓': 'K', '*': 'L', '🌒': 'M', '💀': 'N', '❓': 'O', '🌲': 'P',\n",
    "    '⚛️': 'Q', '&': 'R', '#': 'S', '⛵': 'T', '🗡️': 'U', '%': 'V', '👓': 'W', '🪐': 'X',\n",
    "    '❗': 'Y', '🌀': 'Z'\n",
    "}"
   ]
  },
  {
   "cell_type": "code",
   "execution_count": null,
   "id": "cce159db",
   "metadata": {},
   "outputs": [],
   "source": [
    "encode_map = {v: k for k, v in decode_map.items()}"
   ]
  },
  {
   "cell_type": "code",
   "execution_count": null,
   "id": "476f486d",
   "metadata": {},
   "outputs": [],
   "source": [
    "def translate(encoded_text):\n",
    "    return ''.join(decode_map.get(char, char) for char in encoded_text)"
   ]
  },
  {
   "cell_type": "code",
   "execution_count": null,
   "id": "e3a46c5a",
   "metadata": {},
   "outputs": [],
   "source": [
    "def encrypt(text):\n",
    "    return ''.join(encode_map.get(char.upper(), char) for char in text)"
   ]
  },
  {
   "cell_type": "code",
   "execution_count": null,
   "id": "29add49e",
   "metadata": {},
   "outputs": [],
   "source": [
    "if __name__ == \"__main__\":\n",
    "    mode = input(\"Введіть 0 для розшифрування або 1 для шифрування: \")\n",
    "    text = input(\"Введіть текст: \")\n",
    "\n",
    "    if mode == \"0\":\n",
    "        print(\"Розшифрований текст:\", translate(text))\n",
    "    elif mode == \"1\":\n",
    "        print(\"Зашифрований текст:\", encrypt(text))"
   ]
  }
 ],
 "metadata": {
  "jupytext": {
   "cell_metadata_filter": "-all",
   "main_language": "python",
   "notebook_metadata_filter": "-all"
  }
 },
 "nbformat": 4,
 "nbformat_minor": 5
}
