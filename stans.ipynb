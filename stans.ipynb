{
 "cells": [
  {
   "cell_type": "code",
   "execution_count": null,
   "id": "0c7d26f4",
   "metadata": {},
   "outputs": [],
   "source": [
    "decode_map = {\n",
    "    '❌': 'A', '@': 'B', '✋🏻': 'C', '⭐': 'D', '💲': 'E', '🧨': 'F', '🌪️': 'G', '💣': 'H',\n",
    "    '⚡': 'I', '🦴': 'J', '⚓': 'K', '*': 'L', '🌒': 'M', '💀': 'N', '❓': 'O', '🌲': 'P',\n",
    "    '⚛️': 'Q', '&': 'R', '#': 'S', '⛵': 'T', '🗡️': 'U', '%': 'V', '👓': 'W', '🪐': 'X',\n",
    "    '❗': 'Y', '🌀': 'Z'\n",
    "}\n",
    "\n",
    "encode_map = {v: k for k, v in decode_map.items()}\n",
    "\n",
    "def translate(encoded_text):\n",
    "    return ''.join(decode_map.get(char, char) for char in encoded_text)\n",
    "\n",
    "def encrypt(text):\n",
    "    return ''.join(encode_map.get(char.upper(), char) for char in text)\n",
    "\n",
    "if __name__ == \"__main__\":\n",
    "    mode = input(\"Введіть 0 для розшифрування або 1 для шифрування: \")\n",
    "    text = input(\"Введіть текст: \")\n",
    "\n",
    "    if mode == \"0\":\n",
    "        print(\"Розшифрований текст:\", translate(text))\n",
    "    elif mode == \"1\":\n",
    "        print(\"Зашифрований текст:\", encrypt(text))\n"
   ]
  }
 ],
 "metadata": {
  "kernelspec": {
   "display_name": "Python 3",
   "language": "python",
   "name": "python3"
  },
  "language_info": {
   "codemirror_mode": {
    "name": "ipython",
    "version": 3
   },
   "file_extension": ".py",
   "mimetype": "text/x-python",
   "name": "python",
   "nbconvert_exporter": "python",
   "version": "3.8.8"
  }
 },
 "nbformat": 4,
 "nbformat_minor": 5
}
