{
 "cells": [
  {
   "cell_type": "code",
   "execution_count": null,
   "id": "b3cb0075",
   "metadata": {},
   "outputs": [],
   "source": [
    "decode_map = {\n",
    "    'Ǝ': 'A', '⧖': 'B', '☍': 'C', '⫘': 'D', '▽': 'E', '⨒': 'F', '⨕': 'G', 'φ': 'H',\n",
    "    '⍽': 'I', '⏚': 'J', '≷': 'K', '⍋': 'L', '𖦹': 'M', '◇': 'N', '山': 'O', '☂': 'P',\n",
    "    '⍾': 'Q', '⋑': 'R', 'И': 'S', '⊡': 'T', '☊': 'U', '꩜': 'V', '⌶': 'W', '⋈': 'X',\n",
    "    '∪': 'Y', 'ż': 'Z'\n",
    "}\n",
    "\n",
    "encode_map = {v: k for k, v in decode_map.items()}\n",
    "\n",
    "def translate(encoded_text):\n",
    "    return ''.join(decode_map.get(char, char) for char in encoded_text)\n",
    "\n",
    "def encrypt(text):\n",
    "    return ''.join(encode_map.get(char.upper(), char) for char in text)\n",
    "\n",
    "if __name__ == \"__main__\":\n",
    "    mode = input(\"Введіть 0 для розшифрування або 1 для шифрування: \")\n",
    "    text = input(\"Введіть текст: \")\n",
    "\n",
    "    if mode == \"0\":\n",
    "        print(\"Розшифрований текст:\", translate(text))\n",
    "    elif mode == \"1\":\n",
    "        print(\"Зашифрований текст:\", encrypt(text))\n"
   ]
  }
 ],
 "metadata": {
  "kernelspec": {
   "display_name": "Python 3",
   "language": "python",
   "name": "python3"
  },
  "language_info": {
   "codemirror_mode": {
    "name": "ipython",
    "version": 3
   },
   "file_extension": ".py",
   "mimetype": "text/x-python",
   "name": "python",
   "nbconvert_exporter": "python",
   "version": "3.8.8"
  }
 },
 "nbformat": 4,
 "nbformat_minor": 5
}
