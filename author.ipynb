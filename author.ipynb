{
 "cells": [
  {
   "cell_type": "code",
   "execution_count": null,
   "id": "acbcc79e",
   "metadata": {},
   "outputs": [],
   "source": [
    "decode_map = {\n",
    "    'Ǝ': 'A', '⧖': 'B', '☍': 'C', '⫘': 'D', '▽': 'E', '⨒': 'F', '⨕': 'G', 'φ': 'H',\n",
    "    '⍽': 'I', '⏚': 'J', '≷': 'K', '⍋': 'L', '𖦹': 'M', '◇': 'N', '山': 'O', '☂': 'P',\n",
    "    '⍾': 'Q', '⋑': 'R', 'И': 'S', '⊡': 'T', '☊': 'U', '꩜': 'V', '⌶': 'W', '⋈': 'X',\n",
    "    '∪': 'Y', 'ż': 'Z'\n",
    "}"
   ]
  },
  {
   "cell_type": "code",
   "execution_count": null,
   "id": "8a439f07",
   "metadata": {
    "lines_to_next_cell": 1
   },
   "outputs": [],
   "source": [
    "encode_map = {v: k for k, v in decode_map.items()}"
   ]
  },
  {
   "cell_type": "code",
   "execution_count": null,
   "id": "490889b4",
   "metadata": {
    "lines_to_next_cell": 1
   },
   "outputs": [],
   "source": [
    "def translate(encoded_text):\n",
    "    return ''.join(decode_map.get(char, char) for char in encoded_text)"
   ]
  },
  {
   "cell_type": "code",
   "execution_count": null,
   "id": "9154b496",
   "metadata": {
    "lines_to_next_cell": 1
   },
   "outputs": [],
   "source": [
    "def encrypt(text):\n",
    "    return ''.join(encode_map.get(char.upper(), char) for char in text)"
   ]
  },
  {
   "cell_type": "code",
   "execution_count": null,
   "id": "dccb5695",
   "metadata": {},
   "outputs": [],
   "source": [
    "if __name__ == \"__main__\":\n",
    "    mode = input(\"Введіть 0 для розшифрування або 1 для шифрування: \")\n",
    "    text = input(\"Введіть текст: \")\n",
    "\n",
    "    if mode == \"0\":\n",
    "        print(\"Розшифрований текст:\", translate(text))\n",
    "    elif mode == \"1\":\n",
    "        print(\"Зашифрований текст:\", encrypt(text))"
   ]
  }
 ],
 "metadata": {
  "jupytext": {
   "cell_metadata_filter": "-all",
   "main_language": "python",
   "notebook_metadata_filter": "-all"
  }
 },
 "nbformat": 4,
 "nbformat_minor": 5
}
